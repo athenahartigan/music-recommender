{
  "nbformat": 4,
  "nbformat_minor": 0,
  "metadata": {
    "colab": {
      "provenance": []
    },
    "kernelspec": {
      "name": "python3",
      "display_name": "Python 3"
    },
    "language_info": {
      "name": "python"
    }
  },
  "cells": [
    {
      "cell_type": "code",
      "source": [
        "from google.colab import drive\n",
        "\n",
        "# Unmount the drive first\n",
        "drive.flush_and_unmount()\n",
        "print('Drive unmounted')\n",
        "\n",
        "# Remove existing files from the mountpoint if it exists\n",
        "import os\n",
        "if os.path.exists('/content/drive'):\n",
        "  !rm -rf '/content/drive'  # Use with caution! This permanently deletes all files in the directory.\n",
        "  print('Files removed from mountpoint')\n",
        "\n",
        "# Remount the drive\n",
        "drive.mount('/content/drive')\n",
        "print('Drive mounted')"
      ],
      "metadata": {
        "id": "tIeA0NsH5-Gq"
      },
      "execution_count": null,
      "outputs": []
    },
    {
      "cell_type": "markdown",
      "source": [
        "Getting the songs:"
      ],
      "metadata": {
        "id": "j1Cg3F6kPVRq"
      }
    },
    {
      "cell_type": "code",
      "source": [
        "#!pip install yt-dlp\n",
        "import yt_dlp\n",
        "import os\n",
        "\n",
        "def download_audio_from_youtube_playlist(playlist_url, genre, output_base_folder=\"Downloaded_Audio\"):\n",
        "    # Ensure the base output folder exists\n",
        "    if not os.path.exists(output_base_folder):\n",
        "        os.makedirs(output_base_folder)\n",
        "\n",
        "    # Create a subfolder for each genre within the base folder\n",
        "    output_folder = os.path.join(output_base_folder, genre)\n",
        "    if not os.path.exists(output_folder):\n",
        "        os.makedirs(output_folder)\n",
        "\n",
        "    # yt-dlp options for downloading audio\n",
        "    ydl_opts = {\n",
        "        'format': 'bestaudio/best',  # Best available audio-only format\n",
        "        'outtmpl': f'{output_folder}/%(title)s.%(ext)s',  # Save file naming template\n",
        "        'postprocessors': [{\n",
        "            'key': 'FFmpegExtractAudio',\n",
        "            'preferredcodec': 'wav',  # Convert audio to WAV format\n",
        "            'preferredquality': '192',  # Optional: Set audio quality (doesn't affect WAV as much)\n",
        "        }],\n",
        "        'ignoreerrors': True,  # Skip videos with errors\n",
        "        'retries': 3,  # Retry up to 3 times in case of intermittent errors\n",
        "    }\n",
        "\n",
        "    # Download the playlist\n",
        "    with yt_dlp.YoutubeDL(ydl_opts) as ydl:\n",
        "        try:\n",
        "            print(f\"Downloading playlist from URL: {playlist_url}\")\n",
        "            ydl.download([playlist_url])\n",
        "            print(f\"Download complete for playlist: {playlist_url}\")\n",
        "        except yt_dlp.DownloadError as e:\n",
        "            print(f\"An error occurred: {e}\")\n",
        "            print(\"Some videos in the playlist may be unavailable or restricted.\")\n",
        "\n",
        "# List of playlist URLs with corresponding genres\n",
        "playlists = [\n",
        "    {\"url\": \"https://www.youtube.com/playlist?list=PLFjmckBbDlzSE47xD0FivigDOARiLJl61\", \"genre\": \"Blues\"},\n",
        "    {\"url\": \"https://www.youtube.com/playlist?list=PL2788304DC59DBEB4\", \"genre\": \"Classical\"},\n",
        "    {\"url\": \"https://www.youtube.com/playlist?list=PL3oW2tjiIxvQW6c-4Iry8Bpp3QId40S5S\", \"genre\": \"Country\"},\n",
        "    {\"url\": \"https://www.youtube.com/playlist?list=PL-Ib9oOPR7OHKLBFVkiq0F0rppCZ7YFLp\", \"genre\": \"Jazz\"},\n",
        "    {\"url\": \"https://www.youtube.com/playlist?list=PLmXxqSJJq-yUwqtbp8MHBoTDoDULMoViq\", \"genre\": \"Metal\"},\n",
        "    {\"url\": \"https://www.youtube.com/playlist?list=PLxA687tYuMWhkqYjvAGtW_heiEL4Hk_Lx\", \"genre\": \"Pop\"},\n",
        "    {\"url\": \"https://www.youtube.com/playlist?list=PLEXox2R2RxZKUmrWKNF61K-kZSov14Snr\", \"genre\": \"Disco\"},\n",
        "    {\"url\": \"https://youtube.com/playlist?list=PLvuMfxvpAQrkzez9insKS8cGPU74sK1Ss&si=xKGfXOnrRSZ9CGiG\", \"genre\": \"Hip-Hop\"},\n",
        "    {\"url\": \"https://youtube.com/playlist?list=PLw7aLrPJ8Hl24kczxvRoPECfTvAMsOwv1&si=Xt0CIMq-JXp3rLpQ\", \"genre\": \"Reggae\"},\n",
        "    {\"url\": \"https://youtube.com/playlist?list=PLVQ7g3e6O27cH8KG9mktLWH8zcqiwTntP&si=u40PwF1n7IGzaQZj\", \"genre\": \"Rock\"},\n",
        "    {\"url\": \"https://youtube.com/playlist?list=PLBD52290539D96397&si=pHtbrcvxXbOHGZAc\", \"genre\": \"Rap\"},\n",
        "    {\"url\": \"https://youtube.com/playlist?list=PL2z0emdmB6sCiM865_tVZIv8Ut_9mxqaq&si=4ZOlLO4w_JzZcvw4\", \"genre\": \"K-Pop\"},\n",
        "    {\"url\": \"https://youtube.com/playlist?list=PL5PiyRsNH6iolTZhrMmOxfdQocnokwdpX&si=z6n3stJkKrv7TYpX\", \"genre\": \"Alternative\"},\n",
        "    ]\n",
        "\n",
        "# Specify the base folder to save all downloaded playlists\n",
        "output_base_folder = \"/content/drive/Shareddrives/Machine_Learning_Project_Drive/Youtube_Data\"\n",
        "\n",
        "# Loop through each playlist and genre\n",
        "for playlist in playlists:\n",
        "    download_audio_from_youtube_playlist(playlist[\"url\"], playlist[\"genre\"], output_base_folder)\n"
      ],
      "metadata": {
        "id": "_xGP544QPUh0"
      },
      "execution_count": null,
      "outputs": []
    },
    {
      "cell_type": "markdown",
      "source": [
        "Creating the CSV:"
      ],
      "metadata": {
        "id": "2XRRl5-uPPe6"
      }
    },
    {
      "cell_type": "code",
      "execution_count": null,
      "metadata": {
        "id": "trylocUlygVd"
      },
      "outputs": [],
      "source": [
        "import librosa\n",
        "import pandas as pd\n",
        "import os\n",
        "\n",
        "def extract_features(file_name):\n",
        "    try:\n",
        "        audio, sample_rate = librosa.load(file_name, sr=None)\n",
        "        audio, _ = librosa.effects.trim(audio)\n",
        "\n",
        "        # Extracting features\n",
        "        chroma_stft = librosa.feature.chroma_stft(y=audio, sr=sample_rate)\n",
        "        rms = librosa.feature.rms(y=audio)\n",
        "        spectral_centroid = librosa.feature.spectral_centroid(y=audio, sr=sample_rate)\n",
        "        spectral_bandwidth = librosa.feature.spectral_bandwidth(y=audio, sr=sample_rate)\n",
        "        mfccs = librosa.feature.mfcc(y=audio, sr=sample_rate, n_mfcc=20)\n",
        "        zero_crossings = librosa.zero_crossings(audio, pad=False)\n",
        "        y_harm, y_perc = librosa.effects.hpss(audio)\n",
        "        tempo, _ = librosa.beat.beat_track(y=audio, sr=sample_rate)\n",
        "        spectral_rolloff = librosa.feature.spectral_rolloff(y=audio, sr=sample_rate)\n",
        "\n",
        "        features = {\n",
        "            #fix ordering and filename should be song\n",
        "            'zero_crossing_rate_mean': sum(zero_crossings) / len(zero_crossings),\n",
        "            'sample_rate': sample_rate,\n",
        "            'genre': file_name.split('/')[-2],\n",
        "            'song': file_name.split('/')[-1],\n",
        "            'length': len(audio),\n",
        "            'chroma_stft_mean': chroma_stft.mean(),\n",
        "            'chroma_stft_var': chroma_stft.var(),\n",
        "            'rms_mean': rms.mean(),\n",
        "            'rms_var': rms.var(),\n",
        "            'spectral_centroid_mean': spectral_centroid.mean(),\n",
        "            'spectral_centroid_var': spectral_centroid.var(),\n",
        "            'spectral_bandwidth_mean': spectral_bandwidth.mean(),\n",
        "            'spectral_bandwidth_var': spectral_bandwidth.var(),\n",
        "            'spectral_rolloff_mean': spectral_rolloff.mean(),\n",
        "            'y_harm_mean': y_harm.mean(),\n",
        "            'y_perc_mean': y_perc.mean(),\n",
        "            'tempo': tempo,\n",
        "        }\n",
        "\n",
        "        for i in range(1, 21):\n",
        "            features[f'mfcc{i}_mean'] = mfccs[i-1].mean()\n",
        "            features[f'mfcc{i}_var'] = mfccs[i-1].var()\n",
        "\n",
        "        return features\n",
        "    except Exception as e:\n",
        "        print(f\"Error encountered while parsing file: {file_name} - {e}\")\n",
        "        return None\n",
        "\n",
        "def save_features_to_csv(file_list, output_csv):\n",
        "    features_list = []\n",
        "    for file_name in file_list:\n",
        "        features = extract_features(file_name)\n",
        "        if features is not None:\n",
        "            features_list.append(features)\n",
        "\n",
        "    df = pd.DataFrame(features_list)\n",
        "    df.to_csv(output_csv, index=False)\n",
        "\n",
        "audio_files = []\n",
        "general_path = \"/content/drive/Shareddrives/Machine_Learning_Project_Drive/Youtube_Data\"\n",
        "\n",
        "for genre in os.listdir(general_path):\n",
        "    if genre == \".ipynb_checkpoints\":\n",
        "        continue\n",
        "    for song in os.listdir(f'{general_path}/{genre}'):\n",
        "        audio_files.append(f'{general_path}/{genre}/{song}')\n",
        "\n",
        "output_csv = f'{general_path[:-len(\"/Youtube_Data\")]}/audio_features.csv'\n",
        "save_features_to_csv(audio_files, output_csv)"
      ]
    },
    {
      "cell_type": "code",
      "source": [
        "fixing format\n",
        "data = pd.read_csv('/content/drive/Shareddrives/Machine_Learning_Project_Drive/Audio_Features/all_audio_features.csv')\n",
        "data['tempo'] = [float(x.strip('[]')) for x in data['tempo']]\n",
        "data.to_csv('/content/drive/Shareddrives/Machine_Learning_Project_Drive/Audio_Features/all_audio_features_modified.csv', index=False)\n"
      ],
      "metadata": {
        "id": "AzoTq7giJEBa"
      },
      "execution_count": null,
      "outputs": []
    }
  ]
}